{
 "cells": [
  {
   "cell_type": "code",
   "execution_count": 86,
   "metadata": {},
   "outputs": [],
   "source": [
    "import numpy as np\n",
    "import json"
   ]
  },
  {
   "cell_type": "code",
   "execution_count": 87,
   "metadata": {},
   "outputs": [],
   "source": [
    "\n",
    "\n",
    "\n",
    "def pad_ARC(arr, pad_value=10, final_size=(12, 12)):\n",
    "    # Get the current size of the array\n",
    "    current_size = arr.shape\n",
    "    \n",
    "    # Initialize the padding list\n",
    "    padding = []\n",
    "    \n",
    "    # Calculate the amount of padding needed for each dimension\n",
    "    for i in range(len(final_size)):\n",
    "        pad_amount = max(0, final_size[i] - current_size[i])\n",
    "        padding.append((0, pad_amount))\n",
    "    \n",
    "    # Pad the array\n",
    "    padded_arr = np.pad(arr, padding, mode='constant', constant_values=pad_value)\n",
    "    \n",
    "    return padded_arr"
   ]
  },
  {
   "cell_type": "code",
   "execution_count": 88,
   "metadata": {},
   "outputs": [],
   "source": [
    "test_file = open(\"E:/aolabs/arc-prize/ARC-AGI/data/training/445eab21.json\")\n",
    "\n",
    "test_data = json.load(test_file)\n"
   ]
  },
  {
   "cell_type": "code",
   "execution_count": 89,
   "metadata": {},
   "outputs": [],
   "source": [
    "vector1 = np.array(test_data['train'][0]['input'])"
   ]
  },
  {
   "cell_type": "code",
   "execution_count": 90,
   "metadata": {},
   "outputs": [
    {
     "data": {
      "text/plain": [
       "array([[0, 7, 7, 7, 7, 0, 0, 0, 0, 0],\n",
       "       [0, 7, 0, 0, 7, 0, 0, 0, 0, 0],\n",
       "       [0, 7, 0, 0, 7, 0, 0, 0, 0, 0],\n",
       "       [0, 7, 7, 7, 7, 0, 0, 0, 0, 0],\n",
       "       [0, 0, 0, 0, 0, 0, 0, 0, 0, 0],\n",
       "       [0, 0, 0, 8, 8, 8, 8, 8, 0, 0],\n",
       "       [0, 0, 0, 8, 0, 0, 0, 8, 0, 0],\n",
       "       [0, 0, 0, 8, 0, 0, 0, 8, 0, 0],\n",
       "       [0, 0, 0, 8, 8, 8, 8, 8, 0, 0],\n",
       "       [0, 0, 0, 0, 0, 0, 0, 0, 0, 0]])"
      ]
     },
     "execution_count": 90,
     "metadata": {},
     "output_type": "execute_result"
    }
   ],
   "source": [
    "vector1"
   ]
  },
  {
   "cell_type": "code",
   "execution_count": 91,
   "metadata": {},
   "outputs": [
    {
     "data": {
      "text/plain": [
       "array([[ 0,  7,  7,  7,  7,  0,  0,  0,  0,  0, 10, 10],\n",
       "       [ 0,  7,  0,  0,  7,  0,  0,  0,  0,  0, 10, 10],\n",
       "       [ 0,  7,  0,  0,  7,  0,  0,  0,  0,  0, 10, 10],\n",
       "       [ 0,  7,  7,  7,  7,  0,  0,  0,  0,  0, 10, 10],\n",
       "       [ 0,  0,  0,  0,  0,  0,  0,  0,  0,  0, 10, 10],\n",
       "       [ 0,  0,  0,  8,  8,  8,  8,  8,  0,  0, 10, 10],\n",
       "       [ 0,  0,  0,  8,  0,  0,  0,  8,  0,  0, 10, 10],\n",
       "       [ 0,  0,  0,  8,  0,  0,  0,  8,  0,  0, 10, 10],\n",
       "       [ 0,  0,  0,  8,  8,  8,  8,  8,  0,  0, 10, 10],\n",
       "       [ 0,  0,  0,  0,  0,  0,  0,  0,  0,  0, 10, 10],\n",
       "       [10, 10, 10, 10, 10, 10, 10, 10, 10, 10, 10, 10],\n",
       "       [10, 10, 10, 10, 10, 10, 10, 10, 10, 10, 10, 10]])"
      ]
     },
     "execution_count": 91,
     "metadata": {},
     "output_type": "execute_result"
    }
   ],
   "source": [
    "pad_ARC(vector1)"
   ]
  },
  {
   "cell_type": "code",
   "execution_count": 92,
   "metadata": {},
   "outputs": [],
   "source": [
    "color_to_binary = [\n",
    "    '0000', # black\n",
    "    format(1, '04b'), # blue\n",
    "    format(2, '04b'), # red\n",
    "    format(3, '04b'), # green\n",
    "    format(4, '04b'), # yellow\n",
    "    format(5, '04b'), # grey\n",
    "    format(6, '04b'), # pink\n",
    "    format(7, '04b'), # orange\n",
    "    format(8, '04b'), # l blue\n",
    "    format(9, '04b'), # maroon\n",
    "    '1010', # void / null   #asigning it 1010, because its 10(decimal) in binary.\n",
    "]"
   ]
  },
  {
   "cell_type": "code",
   "execution_count": 94,
   "metadata": {},
   "outputs": [
    {
     "data": {
      "text/plain": [
       "'1010'"
      ]
     },
     "execution_count": 94,
     "metadata": {},
     "output_type": "execute_result"
    }
   ],
   "source": [
    "color_to_binary[10]"
   ]
  },
  {
   "cell_type": "code",
   "execution_count": 95,
   "metadata": {},
   "outputs": [],
   "source": [
    "def ARC_to_binary( input_padded):\n",
    "\n",
    "    input_flat = input_padded.flatten()\n",
    "    inn_stringvec = \"\"\n",
    "    for p in input_flat:\n",
    "        inn_stringvec += color_to_binary[p]  #this line adds 4 bits \n",
    "    \n",
    "    inn_narray = np.asarray(list(inn_stringvec), dtype=int)\n",
    "\n",
    "    return inn_narray"
   ]
  },
  {
   "cell_type": "code",
   "execution_count": 108,
   "metadata": {},
   "outputs": [
    {
     "name": "stdout",
     "output_type": "stream",
     "text": [
      "[0 0 0 0 0 1 1 1 0 1 1 1 0 1 1 1 0 1 1 1 0 0 0 0 0 0 0 0 0 0 0 0 0 0 0 0 0\n",
      " 0 0 0 1 0 1 0 1 0 1 0 0 0 0 0 0 1 1 1 0 0 0 0 0 0 0 0 0 1 1 1 0 0 0 0 0 0\n",
      " 0 0 0 0 0 0 0 0 0 0 0 0 0 0 1 0 1 0 1 0 1 0 0 0 0 0 0 1 1 1 0 0 0 0 0 0 0\n",
      " 0 0 1 1 1 0 0 0 0 0 0 0 0 0 0 0 0 0 0 0 0 0 0 0 0 1 0 1 0 1 0 1 0 0 0 0 0\n",
      " 0 1 1 1 0 1 1 1 0 1 1 1 0 1 1 1 0 0 0 0 0 0 0 0 0 0 0 0 0 0 0 0 0 0 0 0 1\n",
      " 0 1 0 1 0 1 0 0 0 0 0 0 0 0 0 0 0 0 0 0 0 0 0 0 0 0 0 0 0 0 0 0 0 0 0 0 0\n",
      " 0 0 0 0 0 0 0 0 0 0 1 0 1 0 1 0 1 0 0 0 0 0 0 0 0 0 0 0 0 0 1 0 0 0 1 0 0\n",
      " 0 1 0 0 0 1 0 0 0 1 0 0 0 0 0 0 0 0 0 0 0 1 0 1 0 1 0 1 0 0 0 0 0 0 0 0 0\n",
      " 0 0 0 0 1 0 0 0 0 0 0 0 0 0 0 0 0 0 0 0 1 0 0 0 0 0 0 0 0 0 0 0 1 0 1 0 1\n",
      " 0 1 0 0 0 0 0 0 0 0 0 0 0 0 0 1 0 0 0 0 0 0 0 0 0 0 0 0 0 0 0 1 0 0 0 0 0\n",
      " 0 0 0 0 0 0 1 0 1 0 1 0 1 0 0 0 0 0 0 0 0 0 0 0 0 0 1 0 0 0 1 0 0 0 1 0 0\n",
      " 0 1 0 0 0 1 0 0 0 0 0 0 0 0 0 0 0 1 0 1 0 1 0 1 0 0 0 0 0 0 0 0 0 0 0 0 0\n",
      " 0 0 0 0 0 0 0 0 0 0 0 0 0 0 0 0 0 0 0 0 0 0 0 0 0 0 0 0 1 0 1 0 1 0 1 0 1\n",
      " 0 1 0 1 0 1 0 1 0 1 0 1 0 1 0 1 0 1 0 1 0 1 0 1 0 1 0 1 0 1 0 1 0 1 0 1 0\n",
      " 1 0 1 0 1 0 1 0 1 0 1 0 1 0 1 0 1 0 1 0 1 0 1 0 1 0 1 0 1 0 1 0 1 0 1 0 1\n",
      " 0 1 0 1 0 1 0 1 0 1 0 1 0 1 0 1 0 1 0 1 0] 576\n"
     ]
    }
   ],
   "source": [
    "pad_vec1 = pad_ARC(vector1)\n",
    "bin_pad_vec1 = ARC_to_binary(pad_vec1)\n",
    "print(ARC_to_binary(pad_vec1), len(ARC_to_binary(pad_vec1)))\n",
    "\n",
    "#in the printed array, first four represent the 1st block, next four represenst the next block..and so on."
   ]
  },
  {
   "cell_type": "code",
   "execution_count": 97,
   "metadata": {},
   "outputs": [
    {
     "data": {
      "text/plain": [
       "array([[ 0,  7,  7,  7,  7,  0,  0,  0,  0,  0, 10, 10],\n",
       "       [ 0,  7,  0,  0,  7,  0,  0,  0,  0,  0, 10, 10],\n",
       "       [ 0,  7,  0,  0,  7,  0,  0,  0,  0,  0, 10, 10],\n",
       "       [ 0,  7,  7,  7,  7,  0,  0,  0,  0,  0, 10, 10],\n",
       "       [ 0,  0,  0,  0,  0,  0,  0,  0,  0,  0, 10, 10],\n",
       "       [ 0,  0,  0,  8,  8,  8,  8,  8,  0,  0, 10, 10],\n",
       "       [ 0,  0,  0,  8,  0,  0,  0,  8,  0,  0, 10, 10],\n",
       "       [ 0,  0,  0,  8,  0,  0,  0,  8,  0,  0, 10, 10],\n",
       "       [ 0,  0,  0,  8,  8,  8,  8,  8,  0,  0, 10, 10],\n",
       "       [ 0,  0,  0,  0,  0,  0,  0,  0,  0,  0, 10, 10],\n",
       "       [10, 10, 10, 10, 10, 10, 10, 10, 10, 10, 10, 10],\n",
       "       [10, 10, 10, 10, 10, 10, 10, 10, 10, 10, 10, 10]])"
      ]
     },
     "execution_count": 97,
     "metadata": {},
     "output_type": "execute_result"
    }
   ],
   "source": [
    "pad_vec1"
   ]
  },
  {
   "cell_type": "code",
   "execution_count": 123,
   "metadata": {},
   "outputs": [],
   "source": [
    "#function to convert binary color to integer color\n",
    "def binary_to_color(binary_color):\n",
    "    decimal = 0\n",
    "    for digit in binary_color:\n",
    "        decimal = decimal*2 + int(digit)\n",
    "    return decimal   \n",
    "\n",
    "def binary_to_ARC(binary_input, original_shape):\n",
    "    # Initialize an empty list to hold the chunks of 4 bits\n",
    "    chunks = []\n",
    "    \n",
    "    # Split the binary input into chunks of 4 bits\n",
    "    for i in range(0, len(binary_input), 4):\n",
    "        chunk = ''.join(map(str, binary_input[i:i+4]))\n",
    "        chunks.append(chunk)\n",
    "    \n",
    "    # Initialize an empty list to hold the color indices\n",
    "    color_indices = []\n",
    "    \n",
    "    # Convert binary chunks back to their original color indices\n",
    "    for chunk in chunks:\n",
    "        color_index = binary_to_color(chunk)\n",
    "        color_indices.append(color_index)\n",
    "    \n",
    "    # Convert the list of color indices to a numpy array and reshape it to the original shape\n",
    "    output_array = np.array(color_indices).reshape(original_shape)\n",
    "    \n",
    "    return output_array"
   ]
  },
  {
   "cell_type": "code",
   "execution_count": 124,
   "metadata": {},
   "outputs": [
    {
     "data": {
      "text/plain": [
       "array([[ 0,  7,  7,  7,  7,  0,  0,  0,  0,  0, 10, 10],\n",
       "       [ 0,  7,  0,  0,  7,  0,  0,  0,  0,  0, 10, 10],\n",
       "       [ 0,  7,  0,  0,  7,  0,  0,  0,  0,  0, 10, 10],\n",
       "       [ 0,  7,  7,  7,  7,  0,  0,  0,  0,  0, 10, 10],\n",
       "       [ 0,  0,  0,  0,  0,  0,  0,  0,  0,  0, 10, 10],\n",
       "       [ 0,  0,  0,  8,  8,  8,  8,  8,  0,  0, 10, 10],\n",
       "       [ 0,  0,  0,  8,  0,  0,  0,  8,  0,  0, 10, 10],\n",
       "       [ 0,  0,  0,  8,  0,  0,  0,  8,  0,  0, 10, 10],\n",
       "       [ 0,  0,  0,  8,  8,  8,  8,  8,  0,  0, 10, 10],\n",
       "       [ 0,  0,  0,  0,  0,  0,  0,  0,  0,  0, 10, 10],\n",
       "       [10, 10, 10, 10, 10, 10, 10, 10, 10, 10, 10, 10],\n",
       "       [10, 10, 10, 10, 10, 10, 10, 10, 10, 10, 10, 10]])"
      ]
     },
     "execution_count": 124,
     "metadata": {},
     "output_type": "execute_result"
    }
   ],
   "source": [
    "binary_to_ARC(bin_pad_vec1, (12,12))"
   ]
  },
  {
   "cell_type": "code",
   "execution_count": null,
   "metadata": {},
   "outputs": [],
   "source": []
  }
 ],
 "metadata": {
  "kernelspec": {
   "display_name": "myenv",
   "language": "python",
   "name": "python3"
  },
  "language_info": {
   "codemirror_mode": {
    "name": "ipython",
    "version": 3
   },
   "file_extension": ".py",
   "mimetype": "text/x-python",
   "name": "python",
   "nbconvert_exporter": "python",
   "pygments_lexer": "ipython3",
   "version": "3.12.2"
  }
 },
 "nbformat": 4,
 "nbformat_minor": 2
}
